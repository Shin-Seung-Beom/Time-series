{
 "cells": [
  {
   "cell_type": "markdown",
   "metadata": {},
   "source": [
    "# Time series analysis\n",
    "시간을 독립변수로 사용하여 종속변수를 예측한다."
   ]
  },
  {
   "cell_type": "markdown",
   "metadata": {},
   "source": [
    "# AR\n",
    "* Autoregression\n",
    "* 이전 관측값의 오차항이 이후 관측값에 영향을 주는 모형이다.\n",
    "* ex)\\\n",
    "아래 식은 제일 기본적인 AR(1) 식으로, theta는 자기상관계수, epsilon은 white noise이다. Time lag은 1이 될수도 있고 그 이상이 될 수도 있다.\\\n",
    "AR(1): $X_t = \\alpha X_{t-1}+\\epsilon_t$"
   ]
  },
  {
   "cell_type": "markdown",
   "metadata": {},
   "source": [
    "# I\n",
    "* Integrated\n",
    "* 누적을 의미하는 것으로, 차분을 이용하는 시계열모형들에 붙이는 표현이라고 생각하면 편하다."
   ]
  },
  {
   "cell_type": "markdown",
   "metadata": {},
   "source": [
    "# MA\n",
    "* Moving Average\n",
    "* 관측값이 이전의 연속적인 오차항의 영향을 받는다는 모형이다.\n",
    "* ex)\\\n",
    "아래 식은 가장 기본적인 MA(1) 모형을 나타낸 식으로, beta는 이동평균계수, epsilon은 t시점의 오차항이다.\\\n",
    "MA(1): $X_t=\\epsilon_t-\\beta_1 \\epsilon_{t-1}$"
   ]
  },
  {
   "cell_type": "markdown",
   "metadata": {},
   "source": [
    "# ARIMA\n",
    "* Autoregressive Integrated Moving Average\n",
    "* Autoregressive는 자기회귀모형을 의미\\\n",
    "AR(p)=ARIMA(p, 0, 0)\n",
    "* Moving Average는 이동평균모형을 의미\\\n",
    "MA(q)=ARIMA(0, 0, q)\n",
    "\n",
    "ARIMA(p, d, q)\n",
    "$\\hat y_t=\\mu+\\phi_1 y_{t-1}+...+\\phi_p y_{t-p}-\\beta_1 \\epsilon_{t-1}-...-\\beta_q \\epsilon_{t-q}$\n",
    "$\\hat y_t=Y_t,\\ if\\ d=0$\\\n",
    "$\\hat y_t=Y_t-Y_{t-1},\\ if\\ d=1$\\\n",
    "$\\hat y_t=(Y_t-Y_{t-1})-(Y_{t-1}-Y_{t-2}),\\ if\\ d=2$\\\n",
    "\n",
    "ARIMA의 모수는 크게 3가지가 있다. AR모형의 Lag을 의미하는 p, MA모형의 Lag을 의미하는 q, 차분(Diffrence)횟수를 의미하는 d 가 그것이다. \n",
    "\n",
    "통상적으로 p + q < 2, p * q = 0 인 값들을 많이 사용한다.\n",
    "여기서 p * q = 0 이라 하면, 두 값중 하나는 0이라는 이야기이다. ARIMA는 AR모형과 MA모형을 하나로 합쳤다면서 둘 중 하나의 모수가 0인건 또 무슨소리? 라고 할지 모르겠지만, 실제로 대부분의 시계열 자료에서는 하나의 경향만을 강하게 띄기 때문에, 이렇게 사용하는것이 더 잘 맞는다고 한다."
   ]
  },
  {
   "cell_type": "markdown",
   "metadata": {},
   "source": [
    "# ARIMA vs ARMA\n",
    "* ARMA(p, q) = ARIMA(p, 0, q)\n",
    "* ARIMA의 경우 시계열의 비정상성(Non-stationary)을 설명하기 위해 관측치간의 차분(Diffrance)을 사용한다는 차이점이 있다.\n",
    "* 현실에 존재하는 시계열자료는 불안정(Non-stationary)한 경우가 많다."
   ]
  },
  {
   "cell_type": "markdown",
   "metadata": {},
   "source": [
    "# 모형 적합\n",
    "p와 d, q는 어떻게 정해야 할까?\\\n",
    "* ACF plot와 PACF plot을 통해 AR 및 MA의 모수를 추정할 수 있다."
   ]
  },
  {
   "cell_type": "markdown",
   "metadata": {},
   "source": [
    "## 1) ACF\n",
    "* Autocorrelation function\n",
    "* Lag에 따른 관측치들 사이의 관련성을 측정하는 함수\n",
    "\n",
    "$\\rho_k={Cov(y_t, y_{t+k}) \\over Var(y_t)}$"
   ]
  },
  {
   "cell_type": "markdown",
   "metadata": {},
   "source": [
    "## 2) PACF\n",
    "* Partial autocorrelation function\n",
    "* k 이외의 모든 다른 시점 관측치의 영향력을 배제하고\n",
    "$y_t$와 $y_{t-k}$ 두 관측치의 관련성을 측정하는 함수\n",
    "$\\phi_{kk}=corr(y_t,y_{t-k}|y_{t-1}, y_{t-2}, ..., y_{t-k+1})$"
   ]
  },
  {
   "cell_type": "markdown",
   "metadata": {},
   "source": [
    "* 시계열 데이터가 AR의 특성을 띄는 경우, ACF는 천천히 감소하고 PACF는 처음 시차를 제외하고 급격히 감소한다.\n",
    "* 반대로, MA의 특성을 띄는 경우 ACF는 급격히 감소하고 PACF는 천천히 감소한다."
   ]
  },
  {
   "cell_type": "markdown",
   "metadata": {},
   "source": [
    "# Reference\n",
    "* Data sculptor\\\n",
    "https://byeongkijeong.github.io/ARIMA-with-Python/\n",
    "\n",
    "* Box, George; Jenkins, Gwilym (1970). Time Series Analysis: Forecasting and Control."
   ]
  }
 ],
 "metadata": {
  "kernelspec": {
   "display_name": "Python 3",
   "language": "python",
   "name": "python3"
  },
  "language_info": {
   "codemirror_mode": {
    "name": "ipython",
    "version": 3
   },
   "file_extension": ".py",
   "mimetype": "text/x-python",
   "name": "python",
   "nbconvert_exporter": "python",
   "pygments_lexer": "ipython3",
   "version": "3.7.6"
  }
 },
 "nbformat": 4,
 "nbformat_minor": 4
}
